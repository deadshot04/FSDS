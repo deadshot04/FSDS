{
 "cells": [
  {
   "cell_type": "code",
   "execution_count": 1,
   "id": "7552ad8d",
   "metadata": {},
   "outputs": [
    {
     "name": "stdout",
     "output_type": "stream",
     "text": [
      "Hello Python\n"
     ]
    }
   ],
   "source": [
    "print(\"Hello Python\")"
   ]
  },
  {
   "cell_type": "code",
   "execution_count": 7,
   "id": "cda2a4bd",
   "metadata": {},
   "outputs": [
    {
     "name": "stdout",
     "output_type": "stream",
     "text": [
      "Enter First Number10\n",
      "Enter Second Number20\n",
      "addition of two numbers is  30\n",
      "division of two numbers is  0.5\n"
     ]
    }
   ],
   "source": [
    "#addition and divison\n",
    "x=int( input(\"Enter First Number\"))\n",
    "y= int(input(\"Enter Second Number\"))\n",
    "\n",
    "print(\"addition of two numbers is \" , x+y)\n",
    "print(\"division of two numbers is \", x/y)"
   ]
  },
  {
   "cell_type": "code",
   "execution_count": 8,
   "id": "a7dd0015",
   "metadata": {},
   "outputs": [
    {
     "name": "stdout",
     "output_type": "stream",
     "text": [
      "enter the base length of the triangle10\n",
      "enter the height of the triangle20\n",
      "area of triangle =  100.0\n"
     ]
    }
   ],
   "source": [
    "#Area of traingle\n",
    "\n",
    "base=  int(input(\"enter the base length of the triangle\"))\n",
    "height=  int(input(\"enter the height of the triangle\"))\n",
    "\n",
    "print(\"area of triangle = \", (base*height)/2 )"
   ]
  },
  {
   "cell_type": "code",
   "execution_count": 9,
   "id": "534735d5",
   "metadata": {},
   "outputs": [
    {
     "name": "stdout",
     "output_type": "stream",
     "text": [
      "Enter First number for swapping10\n",
      "Enter Second number for swapping20\n",
      "swaaped numbers are 20 10\n"
     ]
    }
   ],
   "source": [
    "#swap two variables\n",
    "\n",
    "x= input(\"Enter First number for swapping\")\n",
    "y= input(\"Enter Second number for swapping\")\n",
    "\n",
    "a=x\n",
    "x=y\n",
    "y=a\n",
    "\n",
    "print(\"swaaped numbers are\", x,y)"
   ]
  },
  {
   "cell_type": "code",
   "execution_count": 11,
   "id": "5c7bfddb",
   "metadata": {},
   "outputs": [
    {
     "name": "stdout",
     "output_type": "stream",
     "text": [
      "33493\n"
     ]
    }
   ],
   "source": [
    "#generate Random NUmber\n",
    "\n",
    "import random\n",
    "\n",
    "print(random.randint(0,100000))"
   ]
  },
  {
   "cell_type": "code",
   "execution_count": null,
   "id": "19449bb8",
   "metadata": {},
   "outputs": [],
   "source": []
  }
 ],
 "metadata": {
  "kernelspec": {
   "display_name": "Python 3 (ipykernel)",
   "language": "python",
   "name": "python3"
  },
  "language_info": {
   "codemirror_mode": {
    "name": "ipython",
    "version": 3
   },
   "file_extension": ".py",
   "mimetype": "text/x-python",
   "name": "python",
   "nbconvert_exporter": "python",
   "pygments_lexer": "ipython3",
   "version": "3.9.7"
  }
 },
 "nbformat": 4,
 "nbformat_minor": 5
}
